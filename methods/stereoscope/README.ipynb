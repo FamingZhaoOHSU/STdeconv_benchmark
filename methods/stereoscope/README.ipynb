{
 "cells": [
  {
   "cell_type": "markdown",
   "id": "31c970f0-8fd4-4cb7-9ae9-504bc659ab9d",
   "metadata": {},
   "source": [
    "# Env"
   ]
  },
  {
   "cell_type": "code",
   "execution_count": 9,
   "id": "a66f7469-ac70-4573-94bd-51af56e2f011",
   "metadata": {},
   "outputs": [],
   "source": [
    "%%bash\n",
    "git clone https://github.com/almaan/stereoscope \n",
    "cd stereoscope\n",
    "./setup.py install"
   ]
  },
  {
   "cell_type": "markdown",
   "id": "dc616be6-dc43-4e3f-9482-227cd9ffcaf6",
   "metadata": {},
   "source": [
    "# Preprocess data"
   ]
  },
  {
   "cell_type": "code",
   "execution_count": 6,
   "id": "da96a352-c1d7-4604-89d4-bbd2daa44599",
   "metadata": {},
   "outputs": [],
   "source": [
    "# load to stereoscope format\n",
    "\n",
    "import pandas as pd\n",
    "import numpy as np\n",
    "from copy import deepcopy\n",
    "import os\n",
    "\n",
    "st_coords = pd.read_csv('../datasets/seqFISH+/Out_rect_locations.csv')\n",
    "st_coords.columns = ['barcode','','','x','y']\n",
    "st_coords = st_coords.drop('',axis=1)\n",
    "st_counts_10000genes = pd.read_csv('../datasets/seqFISH+/Out_gene_expressions_10000genes.csv')\n",
    "st_counts_10000genes = st_counts_10000genes.rename({'Unnamed: 0':'barcode'}, axis=1)\n",
    "sc_counts = pd.read_csv('../datasets/seqFISH+/raw_somatosensory_sc_exp.txt',sep='\\t')\n",
    "sc_counts = sc_counts.set_index('cell_id')\n",
    "sc_counts = sc_counts.T\n",
    "sc_labels = pd.read_csv('../datasets/seqFISH+/somatosensory_sc_labels.txt',header=None)\n",
    "sc_labels.columns = ['celltype']\n",
    "celltype = list(set(sc_labels.celltype))\n",
    "celltype_dict = dict(zip([x+1 for x in range(len(celltype))],celltype))\n",
    "metacell_dict = dict(zip([str(x+1) for x in range(len(celltype))],celltype))\n",
    "sc_labels['cluster'] = [celltype.index(x)+1 for x in sc_labels.celltype]\n",
    "sc_labels['barcode'] = sc_counts.index\n",
    "\n",
    "save_dir = '../datasets/data4stereoscope'\n",
    "if os.path.isdir(save_dir)==False:\n",
    "    os.mkdir(save_dir)\n",
    "\n",
    "sc_counts_stereoscope = deepcopy(sc_counts)\n",
    "sc_counts_stereoscope = sc_counts_stereoscope.reset_index()\n",
    "sc_counts_stereoscope = sc_counts_stereoscope.rename({'index':'cell'},axis=1)\n",
    "sc_counts_stereoscope.to_csv(f'{save_dir}/sc_counts.tsv',index=False,sep='\\t')\n",
    "\n",
    "sc_labels_stereoscope = deepcopy(sc_labels[['barcode','celltype']])\n",
    "sc_labels_stereoscope = sc_labels_stereoscope.rename({'barcode':'cell','celltype':'bio_celltype'},axis=1)\n",
    "sc_labels_stereoscope.to_csv(f'{save_dir}/sc_labels.tsv',index=False,sep='\\t')\n",
    "\n",
    "st_counts_stereoscope = deepcopy(st_counts_10000genes)\n",
    "st_counts_stereoscope['index'] = st_coords.barcode\n",
    "st_counts_stereoscope = st_counts_stereoscope.drop('barcode',axis=1)\n",
    "st_counts_stereoscope = st_counts_stereoscope.set_index('index')\n",
    "st_counts_stereoscope.to_csv(f'{save_dir}/st_coords_counts.tsv',sep='\\t')"
   ]
  },
  {
   "cell_type": "markdown",
   "id": "748e82a3-2698-48f0-b9c8-5fece86af2d8",
   "metadata": {},
   "source": [
    "# Main"
   ]
  },
  {
   "cell_type": "code",
   "execution_count": null,
   "id": "f2571c50-bb8d-4f39-9295-cf9e68a897e6",
   "metadata": {},
   "outputs": [],
   "source": [
    "# Please run in command line\n",
    "stereoscope run --sc_cnt ../datasets/data4stereoscope/sc_counts.tsv \\\n",
    "--sc_labels ../datasets/data4stereoscope/sc_labels.tsv \\\n",
    "--st_cnt ../datasets/data4stereoscope/st_coords_counts.tsv \\\n",
    "-o ../seqFISH_10000_Result/stereoscope -n 5000 \\\n",
    "--gpu -stb 1000 -scb 1000"
   ]
  }
 ],
 "metadata": {
  "kernelspec": {
   "display_name": "st",
   "language": "python",
   "name": "st"
  },
  "language_info": {
   "codemirror_mode": {
    "name": "ipython",
    "version": 3
   },
   "file_extension": ".py",
   "mimetype": "text/x-python",
   "name": "python",
   "nbconvert_exporter": "python",
   "pygments_lexer": "ipython3",
   "version": "3.6.15"
  },
  "widgets": {
   "application/vnd.jupyter.widget-state+json": {
    "state": {},
    "version_major": 2,
    "version_minor": 0
   }
  }
 },
 "nbformat": 4,
 "nbformat_minor": 5
}
