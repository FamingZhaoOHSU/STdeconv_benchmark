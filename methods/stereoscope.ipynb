{
 "cells": [
  {
   "cell_type": "markdown",
   "id": "2fcf264a-5d19-45ce-b947-a4dbc74f2b76",
   "metadata": {},
   "source": [
    "# Load Data"
   ]
  },
  {
   "cell_type": "code",
   "execution_count": 2,
   "id": "5c7598e9-2e20-43bc-a193-5f5f70098506",
   "metadata": {},
   "outputs": [],
   "source": [
    "import pandas as pd\n",
    "import numpy as np\n",
    "from copy import deepcopy\n",
    "import os\n",
    "\n",
    "st_coords = pd.read_csv('data/seqFISH+/Out_rect_locations.csv')\n",
    "st_coords.columns = ['barcode','','','x','y']\n",
    "st_coords = st_coords.drop('',axis=1)\n",
    "st_counts_10000genes = pd.read_csv('data/seqFISH+/Out_gene_expressions_10000genes.csv')\n",
    "st_counts_10000genes = st_counts_10000genes.rename({'Unnamed: 0':'barcode'}, axis=1)\n",
    "sc_counts = pd.read_csv('data/seqFISH+/raw_somatosensory_sc_exp.txt',sep='\\t')\n",
    "sc_counts = sc_counts.set_index('cell_id')\n",
    "sc_counts = sc_counts.T\n",
    "sc_labels = pd.read_csv('data/seqFISH+/somatosensory_sc_labels.txt',header=None)\n",
    "sc_labels.columns = ['celltype']\n",
    "celltype = list(set(sc_labels.celltype))\n",
    "celltype_dict = dict(zip([x+1 for x in range(len(celltype))],celltype))\n",
    "metacell_dict = dict(zip([str(x+1) for x in range(len(celltype))],celltype))\n",
    "sc_labels['cluster'] = [celltype.index(x)+1 for x in sc_labels.celltype]\n",
    "sc_labels['barcode'] = sc_counts.index\n",
    "\n",
    "# load to stereoscope format\n",
    "\n",
    "save_dir = 'data4stereoscope'\n",
    "if os.path.isdir(save_dir)==False:\n",
    "    os.mkdir(save_dir)\n",
    "\n",
    "sc_counts_stereoscope = deepcopy(sc_counts)\n",
    "sc_counts_stereoscope = sc_counts_stereoscope.reset_index()\n",
    "sc_counts_stereoscope = sc_counts_stereoscope.rename({'index':'cell'},axis=1)\n",
    "sc_counts_stereoscope.to_csv(f'{save_dir}/sc_counts.tsv',index=False,sep='\\t')\n",
    "\n",
    "sc_labels_stereoscope = deepcopy(sc_labels[['barcode','celltype']])\n",
    "sc_labels_stereoscope = sc_labels_stereoscope.rename({'barcode':'cell','celltype':'bio_celltype'},axis=1)\n",
    "sc_labels_stereoscope.to_csv(f'{save_dir}/sc_labels.tsv',index=False,sep='\\t')\n",
    "\n",
    "st_counts_stereoscope = deepcopy(st_counts_10000genes)\n",
    "st_counts_stereoscope['index'] = st_coords.barcode\n",
    "st_counts_stereoscope = st_counts_stereoscope.drop('barcode',axis=1)\n",
    "st_counts_stereoscope = st_counts_stereoscope.set_index('index')\n",
    "st_counts_stereoscope.to_csv(f'{save_dir}/st_coords_counts.tsv',sep='\\t')"
   ]
  },
  {
   "cell_type": "markdown",
   "id": "9f870197-90a4-45b0-af48-3d900b51ebc6",
   "metadata": {},
   "source": [
    "## stereoscope"
   ]
  },
  {
   "cell_type": "code",
   "execution_count": 6,
   "id": "08a13bd9-3185-419d-9be2-2ae9e79c7a2a",
   "metadata": {},
   "outputs": [
    {
     "name": "stdout",
     "output_type": "stream",
     "text": [
      "/bin/bash: stereoscope: command not found\n"
     ]
    }
   ],
   "source": [
    "# Run in Bash\n",
    "sample=seqFISH+_10000genes\n",
    "stereoscope run --sc_cnt output/data4stereoscope/${sample}/sc_counts.tsv \\\n",
    "--sc_labels output/data4stereoscope/${sample}/sc_labels.tsv \\\n",
    "--st_cnt output/data4stereoscope/${sample}/st_coords_counts.tsv \\\n",
    "-o output/stereoscope/${sample} -n 5000 \\\n",
    "--gpu -stb 1000 -scb 1000"
   ]
  }
 ],
 "metadata": {
  "kernelspec": {
   "display_name": "st",
   "language": "python",
   "name": "st"
  },
  "language_info": {
   "codemirror_mode": {
    "name": "ipython",
    "version": 3
   },
   "file_extension": ".py",
   "mimetype": "text/x-python",
   "name": "python",
   "nbconvert_exporter": "python",
   "pygments_lexer": "ipython3",
   "version": "3.6.15"
  },
  "toc-autonumbering": true,
  "widgets": {
   "application/vnd.jupyter.widget-state+json": {
    "state": {},
    "version_major": 2,
    "version_minor": 0
   }
  }
 },
 "nbformat": 4,
 "nbformat_minor": 5
}
