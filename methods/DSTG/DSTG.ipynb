{
 "cells": [
  {
   "cell_type": "markdown",
   "id": "bdde333b-467b-45f2-aff1-e854eb711885",
   "metadata": {},
   "source": [
    "# Environment installation "
   ]
  },
  {
   "cell_type": "code",
   "execution_count": null,
   "id": "58161e09-4026-4b28-ac51-3b0827fd727c",
   "metadata": {},
   "outputs": [],
   "source": [
    "install.packages('Seurat')\n",
    "if (!require(\"BiocManager\", quietly = TRUE))\n",
    "    install.packages(\"BiocManager\",repos='http://cran.us.r-project.org')\n",
    "BiocManager::install(\"DropletUtils\")\n"
   ]
  },
  {
   "cell_type": "markdown",
   "id": "f3e3c153-1187-4b15-b528-b68fbedbb039",
   "metadata": {},
   "source": [
    "# process "
   ]
  },
  {
   "cell_type": "code",
   "execution_count": 3,
   "id": "5b47b8fe-7f5d-4fb9-8edd-1398488c952f",
   "metadata": {
    "execution": {
     "iopub.execute_input": "2022-10-11T15:47:11.489373Z",
     "iopub.status.busy": "2022-10-11T15:47:11.486634Z",
     "iopub.status.idle": "2022-10-11T15:47:20.703569Z",
     "shell.execute_reply": "2022-10-11T15:47:20.701675Z"
    },
    "tags": []
   },
   "outputs": [],
   "source": [
    "source('ours_utils.r')\n",
    "org_st_count = read.csv('../datasets/seqFISH+/Out_gene_expressions_10000genes.csv',header = T, row.names = 1)\n",
    "\n",
    "sc_exp = read.table('../datasets/seqFISH+/raw_somatosensory_sc_exp.txt',header = T,row.names = 1)\n",
    "sc_anno = read.table('../datasets/seqFISH+/somatosensory_sc_labels.txt',header = F)"
   ]
  },
  {
   "cell_type": "code",
   "execution_count": 5,
   "id": "59ecd789-ea35-4de8-a4f8-0dc74388db4a",
   "metadata": {
    "execution": {
     "iopub.execute_input": "2022-10-11T15:52:24.534929Z",
     "iopub.status.busy": "2022-10-11T15:52:24.529953Z",
     "iopub.status.idle": "2022-10-11T15:53:07.720293Z",
     "shell.execute_reply": "2022-10-11T15:53:07.715600Z"
    },
    "tags": []
   },
   "outputs": [
    {
     "name": "stdout",
     "output_type": "stream",
     "text": [
      "[1] 9950\n",
      "[1] \"HVG_features:1000\"\n",
      "[1] \"Generating synthetic test spots...\"\n",
      "  |======================================================================| 100%[1] 6\n",
      "[1] 7\n",
      "\n",
      "[1] \"Generation of 300 test spots took 0.11 mins\"\n",
      "[1] \"output consists of a list with two dataframes, this first one has the weighted count matrix and the second has the metadata for each spot\"\n"
     ]
    },
    {
     "name": "stderr",
     "output_type": "stream",
     "text": [
      "Centering and scaling data matrix\n",
      "\n",
      "Centering and scaling data matrix\n",
      "\n",
      "Warning message in dir.create(\"Datadir\"):\n",
      "“'Datadir'已存在”\n",
      "Warning message in dir.create(\"Output\"):\n",
      "“'Output'已存在”\n",
      "Warning message in dir.create(\"DSTG_Result\"):\n",
      "“'DSTG_Result'已存在”\n",
      "Warning message in dir.create(inforDir):\n",
      "“'Infor_Data'已存在”\n"
     ]
    }
   ],
   "source": [
    "st_count = t(as.matrix(org_st_count))\n",
    "cell_type = sc_anno[,1]\n",
    "\n",
    "## DSTG\n",
    "process_data(as.matrix(sc_exp),st_count,cell_type,spot_num = 300, \n",
    "             dropout_extract = F,combine_feature = F,HVG = T,\n",
    "             HVG_num = 1000,scale_num = 10000,lower_cellnum = 10,upper_cellnum = 20)\n",
    "\n",
    "system('~/anaconda3/envs/st3/bin/python train.py ')"
   ]
  },
  {
   "cell_type": "code",
   "execution_count": null,
   "id": "9d69be44-99de-4dde-b1ec-303203e0aefc",
   "metadata": {},
   "outputs": [],
   "source": []
  }
 ],
 "metadata": {
  "kernelspec": {
   "display_name": "R",
   "language": "R",
   "name": "ir"
  },
  "language_info": {
   "codemirror_mode": "r",
   "file_extension": ".r",
   "mimetype": "text/x-r-source",
   "name": "R",
   "pygments_lexer": "r",
   "version": "4.0.5"
  },
  "widgets": {
   "application/vnd.jupyter.widget-state+json": {
    "state": {},
    "version_major": 2,
    "version_minor": 0
   }
  }
 },
 "nbformat": 4,
 "nbformat_minor": 5
}
