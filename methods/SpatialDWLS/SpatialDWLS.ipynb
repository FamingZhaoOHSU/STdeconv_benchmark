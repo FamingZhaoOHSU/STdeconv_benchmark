{
 "cells": [
  {
   "cell_type": "code",
   "execution_count": null,
   "id": "4cedd5d7-5462-450e-af34-63e5f4f99939",
   "metadata": {},
   "outputs": [],
   "source": [
    "library(Giotto)\n",
    "\n",
    "setwd('../datasets/seqFISH+/')\n",
    "org_st_count = read.csv('Out_gene_expressions_10000genes.csv',header = T, row.names = 1)\n",
    "\n",
    "sc_exp = read.table('raw_somatosensory_sc_exp.txt',header = T,row.names = 1)\n",
    "sc_anno = read.table('somatosensory_sc_labels.txt',header = F)\n",
    "st_location = read.csv('Out_rect_locations.csv',header = T, row.names = 1)\n",
    "cell_type = sc_anno[,1]\n",
    "\n",
    "my_python_path= \"/your/python/path\"\n",
    "instrs = createGiottoInstructions(python_path = my_python_path)\n",
    "\n"
   ]
  },
  {
   "cell_type": "markdown",
   "id": "e6c9b582-bb70-4acd-9824-3af9b23ee90f",
   "metadata": {},
   "source": [
    "# analysis scRNA-seq  "
   ]
  },
  {
   "cell_type": "code",
   "execution_count": null,
   "id": "1f82a265-92c1-4878-b09a-cfcac51da60d",
   "metadata": {},
   "outputs": [],
   "source": [
    "sc_obj = createGiottoObject(raw_exprs = sc_count, instructions = instrs)\n",
    "sc_obj = filterGiotto(gobject = sc_obj, expression_threshold = 0.1, gene_det_in_min_cells = 10,\n",
    "                      min_det_genes_per_cell = 10, expression_values = c('raw'), verbose = T)\n",
    "sc_obj = normalizeGiotto(gobject = sc_obj, scalefactor = 6000, verbose = T)\n",
    "sc_obj <- addStatistics(gobject = sc_obj)\n"
   ]
  },
  {
   "cell_type": "code",
   "execution_count": null,
   "id": "c36d3c88-ba8e-4ffc-8daa-e281388fe5b4",
   "metadata": {},
   "outputs": [],
   "source": [
    "# add cell type annotation\n",
    "anno = data.table::data.table(cell_ID = sc_obj@cell_ID, cell_type = cell_type)\n",
    "colnames(anno) = c('cell_ID','cell_type')\n",
    "\n",
    "sc_obj@cell_metadata = data.table::merge.data.table(sc_obj@cell_metadata, anno, by ='cell_ID')\n",
    "gini_markers = findMarkers_one_vs_all(gobject = sc_obj,\n",
    "                                      method = 'gini',\n",
    "                                      expression_values = 'normalized',\n",
    "                                      cluster_column = 'cell_type',\n",
    "                                      min_genes = 20,\n",
    "                                      min_expr_gini_score = 0.5,\n",
    "                                      min_det_gini_score = 0.5)\n",
    "\n",
    "sign_markers = unique(gini_markers$genes[which(gini_markers$comb_rank <= 1000)])\n",
    "topgenes_gini = gini_markers[, head(.SD, 2), by = 'cluster']\n",
    "average_cell_type_expr = Giotto:::create_average_DT(gobject = sc_obj, \n",
    "                                                    meta_data_name = 'cell_type', \n",
    "                                                    expression_values = 'normalized')\n",
    "average_cell_type_expr = average_cell_type_expr[sign_markers,]\n",
    "colnames(average_cell_type_expr) = gsub('cluster_', '', colnames(average_cell_type_expr) )\n",
    "\n",
    "locs = data.table::data.table(cell_ID = rownames(st_location), st_location)"
   ]
  },
  {
   "cell_type": "markdown",
   "id": "b908e3e9-44f7-4093-b0ba-4f1c8914c041",
   "metadata": {},
   "source": [
    "# analysis ST"
   ]
  },
  {
   "cell_type": "code",
   "execution_count": null,
   "id": "9a0d0853-6ae4-45f2-b16a-3b638a81b731",
   "metadata": {},
   "outputs": [],
   "source": [
    "\n",
    "instrs = createGiottoInstructions(python_path = my_python_path)\n",
    "data.table::setnames(locs, new = c('sdimx', 'sdimy', 'cell_ID'))\n",
    "\n",
    "st_obj = createGiottoObject(raw_exprs = st_count, \n",
    "                            spatial_locs = locs,\n",
    "                            instructions = instrs)\n",
    "st_obj = filterGiotto(gobject = st_obj, expression_threshold = 1, gene_det_in_min_cells = 5,\n",
    "                      min_det_genes_per_cell = 5, expression_values = c('raw'), verbose = T)\n",
    "st_obj = normalizeGiotto(gobject = st_obj, scalefactor = 6000, verbose = T)\n",
    "st_obj <- addStatistics(gobject = st_obj)\n",
    "\n",
    "\n",
    "st_obj <- calculateHVG(gobject = st_obj, method = 'cov_loess', \n",
    "                       difference_in_cov = 0.1,show_plot = FALSE, save_param = list(save_name = '3_a_HVGplot', base_height = 5, base_width = 5))\n",
    "\n",
    "gene_metadata = fDataDT(st_obj)\n",
    "featgenes = gene_metadata[hvg == 'yes']$gene_ID\n",
    "\n",
    "st_obj <- runPCA(gobject = st_obj, genes_to_use = featgenes, scale_unit = F, center = F)\n",
    "st_obj <- runUMAP(st_obj, dimensions_to_use = 1:5, n_threads = 20)\n",
    "st_obj <- createNearestNetwork(gobject = st_obj, dimensions_to_use = 1:5, k = 10)\n",
    "## Leiden clustering\n",
    "st_obj <- doLeidenCluster(gobject = st_obj, resolution = 1, n_iterations = 1000)\n",
    "st_obj <- newrunDWLSDeconv(gobject = st_obj, \n",
    "                           cluster_column = \"leiden_clus\",\n",
    "                           sign_matrix = average_cell_type_expr)\n",
    "write.csv(st_obj@spatial_enrichment$DWLS,'SpatialDWLS_seqFISH_10000.csv')"
   ]
  }
 ],
 "metadata": {
  "kernelspec": {
   "display_name": "R",
   "language": "R",
   "name": "ir"
  },
  "language_info": {
   "codemirror_mode": "r",
   "file_extension": ".r",
   "mimetype": "text/x-r-source",
   "name": "R",
   "pygments_lexer": "r",
   "version": "4.0.5"
  },
  "widgets": {
   "application/vnd.jupyter.widget-state+json": {
    "state": {},
    "version_major": 2,
    "version_minor": 0
   }
  }
 },
 "nbformat": 4,
 "nbformat_minor": 5
}
