{
 "cells": [
  {
   "cell_type": "markdown",
   "id": "2fcf264a-5d19-45ce-b947-a4dbc74f2b76",
   "metadata": {},
   "source": [
    "# Load Data"
   ]
  },
  {
   "cell_type": "code",
   "execution_count": 5,
   "id": "5c7598e9-2e20-43bc-a193-5f5f70098506",
   "metadata": {},
   "outputs": [
    {
     "name": "stderr",
     "output_type": "stream",
     "text": [
      "/home/zhouj0d/software/anaconda3/envs/st/lib/python3.6/site-packages/anndata/_core/anndata.py:120: ImplicitModificationWarning: Transforming to str index.\n",
      "  warnings.warn(\"Transforming to str index.\", ImplicitModificationWarning)\n",
      "... storing 'celltype' as categorical\n"
     ]
    }
   ],
   "source": [
    "import pandas as pd\n",
    "import numpy as np\n",
    "from copy import deepcopy\n",
    "import os\n",
    "\n",
    "st_coords = pd.read_csv('data/seqFISH+/Out_rect_locations.csv')\n",
    "st_coords.columns = ['barcode','','','x','y']\n",
    "st_coords = st_coords.drop('',axis=1)\n",
    "st_counts_10000genes = pd.read_csv('data/seqFISH+/Out_gene_expressions_10000genes.csv')\n",
    "st_counts_10000genes = st_counts_10000genes.rename({'Unnamed: 0':'barcode'}, axis=1)\n",
    "sc_counts = pd.read_csv('data/seqFISH+/raw_somatosensory_sc_exp.txt',sep='\\t')\n",
    "sc_counts = sc_counts.set_index('cell_id')\n",
    "sc_counts = sc_counts.T\n",
    "sc_labels = pd.read_csv('data/seqFISH+/somatosensory_sc_labels.txt',header=None)\n",
    "sc_labels.columns = ['celltype']\n",
    "celltype = list(set(sc_labels.celltype))\n",
    "celltype_dict = dict(zip([x+1 for x in range(len(celltype))],celltype))\n",
    "metacell_dict = dict(zip([str(x+1) for x in range(len(celltype))],celltype))\n",
    "sc_labels['cluster'] = [celltype.index(x)+1 for x in sc_labels.celltype]\n",
    "sc_labels['barcode'] = sc_counts.index\n",
    "\n",
    "# load to h5ad (tangram format)\n",
    "import anndata\n",
    "\n",
    "save_dir = 'data4tangram'\n",
    "if os.path.isdir(save_dir)==False:\n",
    "    os.mkdir(save_dir)\n",
    "    \n",
    "obs = pd.DataFrame()\n",
    "obs['x'] = st_coords.x\n",
    "obs['y'] = st_coords.y\n",
    "obs.index = st_coords.barcode\n",
    "var_names = st_counts_10000genes.columns[1::]\n",
    "var = pd.DataFrame(index=var_names)\n",
    "X = st_counts_10000genes.iloc[:,1:].values\n",
    "st_adata = anndata.AnnData(X, obs=obs, var=var, dtype='int32')\n",
    "st_adata.write(f'{save_dir}/st.h5ad')\n",
    "\n",
    "obs = pd.DataFrame()\n",
    "obs['celltype'] = sc_labels.celltype\n",
    "obs['cluster'] = sc_labels.cluster\n",
    "obs.index = sc_labels.barcode\n",
    "var_names = sc_counts.columns\n",
    "var = pd.DataFrame(index=var_names)\n",
    "X = sc_counts.values\n",
    "sc_adata = anndata.AnnData(X, obs=obs, var=var, dtype='int32')\n",
    "sc_adata.write(f'{save_dir}/sc.h5ad')"
   ]
  },
  {
   "cell_type": "markdown",
   "id": "9ff24b56-18db-4d42-91ae-267ed2a56a29",
   "metadata": {},
   "source": [
    "# Tangram"
   ]
  },
  {
   "cell_type": "code",
   "execution_count": 9,
   "id": "c643f80c-eaca-4429-b0f4-f7efd2865f96",
   "metadata": {},
   "outputs": [
    {
     "name": "stdout",
     "output_type": "stream",
     "text": [
      "************* seqFISH+_10000genes ***************\n",
      "Drop celltype [] contain less 2 sample\n"
     ]
    },
    {
     "name": "stderr",
     "output_type": "stream",
     "text": [
      "WARNING: Default of the method has been changed to 't-test' from 't-test_overestim_var'\n"
     ]
    },
    {
     "name": "stdout",
     "output_type": "stream",
     "text": [
      "       Olig astrocytes eNeuron endo_mural      iNeuron microglia\n",
      "0      Plp1     Atp1a2   Calm1      Sparc        Ndrg4      C1qb\n",
      "1       Mog        Clu   Ywhah       Esam       Tspyl4       B2m\n",
      "2    Taldo1     Slc1a3  Snap25      Cldn5  Atp6v0c-ps2     Csf1r\n",
      "3      Scd2        Mt2   Calm2        Bsg      Zcchc18    Tyrobp\n",
      "4       Mbp     Slc1a2    Chn1      Csrp2         Gad1     Rps29\n",
      "..      ...        ...     ...        ...          ...       ...\n",
      "195  Srd5a1      Kcnk1     Gls       Lrp8    Adcyap1r1    Ifngr1\n",
      "196  Nkain1      Hadhb   Map1b     Rpl36a         Dpp6      H2-L\n",
      "197   Enpp6        Oaf  Stxbp1      Nampt       Rab27b      Igf1\n",
      "198   Magt1       Nfia    Pfkm     Isyna1         Pja1    Hnrnpf\n",
      "199  Elavl3    Smpdl3a  Lrrc4c    Serinc3        Zmat4     Hspa5\n",
      "\n",
      "[200 rows x 6 columns]\n",
      "['1110008P14Rik' '1500004A13Rik' '1700047M11Rik' ... 'Zfr' 'Zmat2' 'Zmat4']\n"
     ]
    },
    {
     "name": "stderr",
     "output_type": "stream",
     "text": [
      "INFO:root:482 training genes are saved in `uns``training_genes` of both single cell and spatial Anndatas.\n",
      "INFO:root:9807 overlapped genes are saved in `uns``overlap_genes` of both single cell and spatial Anndatas.\n",
      "INFO:root:uniform based density prior is calculated and saved in `obs``uniform_density` of the spatial Anndata.\n",
      "INFO:root:rna count based density prior is calculated and saved in `obs``rna_count_based_density` of the spatial Anndata.\n",
      "INFO:root:Allocate tensors for mapping.\n",
      "INFO:root:Begin training with 482 genes and rna_count_based density_prior in clusters mode...\n",
      "INFO:root:Printing scores every 100 epochs.\n"
     ]
    },
    {
     "name": "stdout",
     "output_type": "stream",
     "text": [
      "Score: 0.634, KL reg: 0.296\n",
      "Score: 0.892, KL reg: 0.001\n",
      "Score: 0.892, KL reg: 0.001\n",
      "Score: 0.892, KL reg: 0.001\n",
      "Score: 0.892, KL reg: 0.001\n",
      "Score: 0.892, KL reg: 0.001\n",
      "Score: 0.892, KL reg: 0.001\n",
      "Score: 0.892, KL reg: 0.001\n",
      "Score: 0.892, KL reg: 0.001\n",
      "Score: 0.892, KL reg: 0.001\n"
     ]
    },
    {
     "name": "stderr",
     "output_type": "stream",
     "text": [
      "INFO:root:Saving results..\n",
      "INFO:root:spatial prediction dataframe is saved in `obsm` `tangram_ct_pred` of the spatial AnnData.\n"
     ]
    },
    {
     "name": "stdout",
     "output_type": "stream",
     "text": [
      "7.786057472229004\n"
     ]
    }
   ],
   "source": [
    "import pandas as pd\n",
    "import sys\n",
    "import numpy as np\n",
    "import pandas as pd\n",
    "import scanpy as sc\n",
    "import tangram as tg\n",
    "import time \n",
    "\n",
    "start = time.time()\n",
    "\n",
    "for sample in 'seqFISH+_10000genes'.split(' '):\n",
    "    \n",
    "    print(f'************* {sample} ***************')\n",
    "    \n",
    "    root_dir = f'data4tangram'\n",
    "\n",
    "    ad_sc = sc.read_h5ad(f'{root_dir}/sc.h5ad')\n",
    "    ad_sp = sc.read_h5ad(f'{root_dir}/st.h5ad')\n",
    "    celltype_key = 'celltype'\n",
    "\n",
    "    # use raw count both of scrna and spatial\n",
    "    sc.pp.normalize_total(ad_sc)\n",
    "    celltype_counts = ad_sc.obs[celltype_key].value_counts()\n",
    "    celltype_drop = celltype_counts.index[celltype_counts < 2]\n",
    "    print(f'Drop celltype {list(celltype_drop)} contain less 2 sample')\n",
    "    ad_sc = ad_sc[~ad_sc.obs[celltype_key].isin(celltype_drop),].copy()\n",
    "    sc.tl.rank_genes_groups(ad_sc, groupby=celltype_key, use_raw=False)\n",
    "    markers_df = pd.DataFrame(ad_sc.uns[\"rank_genes_groups\"][\"names\"]).iloc[0:200, :]\n",
    "    print(markers_df)\n",
    "    genes_sc = np.unique(markers_df.melt().value.values)\n",
    "    print(genes_sc)\n",
    "    genes_st = ad_sp.var_names.values\n",
    "    genes = list(set(genes_sc).intersection(set(genes_st)))\n",
    "\n",
    "    tg.pp_adatas(ad_sc, ad_sp, genes=genes)\n",
    "\n",
    "    ad_map = tg.map_cells_to_space(\n",
    "                       ad_sc,\n",
    "                       ad_sp,\n",
    "                       mode='clusters',\n",
    "                       cluster_label=celltype_key)\n",
    "\n",
    "    tg.project_cell_annotations(ad_map, ad_sp, annotation=celltype_key)\n",
    "\n",
    "    celltype_density = ad_sp.obsm['tangram_ct_pred']\n",
    "    celltype_density = (celltype_density.T/celltype_density.sum(axis=1)).T\n",
    "\n",
    "    celltype_density.to_csv(f'output/tangram_{sample}.tsv',sep='\\t')\n",
    "\n",
    "    end = time.time()\n",
    "    print(end - start)"
   ]
  }
 ],
 "metadata": {
  "kernelspec": {
   "display_name": "st",
   "language": "python",
   "name": "st"
  },
  "language_info": {
   "codemirror_mode": {
    "name": "ipython",
    "version": 3
   },
   "file_extension": ".py",
   "mimetype": "text/x-python",
   "name": "python",
   "nbconvert_exporter": "python",
   "pygments_lexer": "ipython3",
   "version": "3.6.15"
  },
  "toc-autonumbering": true,
  "widgets": {
   "application/vnd.jupyter.widget-state+json": {
    "state": {},
    "version_major": 2,
    "version_minor": 0
   }
  }
 },
 "nbformat": 4,
 "nbformat_minor": 5
}
